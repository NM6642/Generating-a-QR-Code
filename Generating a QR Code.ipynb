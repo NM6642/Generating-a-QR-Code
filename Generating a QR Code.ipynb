{
 "cells": [
  {
   "cell_type": "markdown",
   "id": "ae906a96",
   "metadata": {},
   "source": [
    "# Installing the Python qrcode package\n",
    "We can install the qrcode package with the help of the pip installer using the following command:"
   ]
  },
  {
   "cell_type": "code",
   "execution_count": 1,
   "id": "2e49beb8",
   "metadata": {},
   "outputs": [
    {
     "name": "stdout",
     "output_type": "stream",
     "text": [
      "Collecting qrcode\n",
      "  Downloading qrcode-7.4.2-py3-none-any.whl (46 kB)\n",
      "     ---------------------------------------- 46.2/46.2 kB 1.2 MB/s eta 0:00:00\n",
      "Requirement already satisfied: typing-extensions in c:\\users\\lenovo\\anaconda3\\lib\\site-packages (from qrcode) (4.8.0)\n",
      "Requirement already satisfied: colorama in c:\\users\\lenovo\\anaconda3\\lib\\site-packages (from qrcode) (0.4.6)\n",
      "Collecting pypng\n",
      "  Downloading pypng-0.20220715.0-py3-none-any.whl (58 kB)\n",
      "     ---------------------------------------- 58.1/58.1 kB 3.0 MB/s eta 0:00:00\n",
      "Installing collected packages: pypng, qrcode\n",
      "Successfully installed pypng-0.20220715.0 qrcode-7.4.2\n",
      "Note: you may need to restart the kernel to use updated packages.\n"
     ]
    }
   ],
   "source": [
    "pip install qrcode  "
   ]
  },
  {
   "cell_type": "code",
   "execution_count": 2,
   "id": "bfdd4760",
   "metadata": {},
   "outputs": [],
   "source": [
    "# importing module  \n",
    "import qrcode "
   ]
  },
  {
   "cell_type": "code",
   "execution_count": 4,
   "id": "4e9fb4b7",
   "metadata": {},
   "outputs": [],
   "source": [
    "# generating a QR code using the make() function  \n",
    "qr_img = qrcode.make(\"Hello, How are you?\")  \n",
    "# saving the image file  \n",
    "qr_img.save(\"qr-img.jpg\")"
   ]
  },
  {
   "cell_type": "markdown",
   "id": "309c7586",
   "metadata": {},
   "source": [
    "# we have imported the qrcode library and defined a variable that uses the make() function of the qrcode library to generate a QR code. We have then saved the code using the save() function in the directory."
   ]
  },
  {
   "cell_type": "code",
   "execution_count": null,
   "id": "f26994c2",
   "metadata": {},
   "outputs": [],
   "source": []
  }
 ],
 "metadata": {
  "kernelspec": {
   "display_name": "Python 3 (ipykernel)",
   "language": "python",
   "name": "python3"
  },
  "language_info": {
   "codemirror_mode": {
    "name": "ipython",
    "version": 3
   },
   "file_extension": ".py",
   "mimetype": "text/x-python",
   "name": "python",
   "nbconvert_exporter": "python",
   "pygments_lexer": "ipython3",
   "version": "3.10.9"
  }
 },
 "nbformat": 4,
 "nbformat_minor": 5
}
